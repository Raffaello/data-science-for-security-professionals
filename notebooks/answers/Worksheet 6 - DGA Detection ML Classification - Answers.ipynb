{
 "cells": [
  {
   "cell_type": "code",
   "execution_count": 43,
   "metadata": {
    "collapsed": false,
    "deletable": true,
    "editable": true
   },
   "outputs": [],
   "source": [
    "# Load Libraries - Make sure to run this cell!\n",
    "import pandas as pd\n",
    "import numpy as np\n",
    "import re\n",
    "from collections import Counter\n",
    "from sklearn import feature_extraction, tree, model_selection, metrics\n",
    "import matplotlib.pyplot as plt\n",
    "import matplotlib\n",
    "%matplotlib inline"
   ]
  },
  {
   "cell_type": "markdown",
   "metadata": {
    "deletable": true,
    "editable": true
   },
   "source": [
    "## Worksheet - Answer - DGA Detection using Machine Learning\n",
    "\n",
    "This worksheet is a step-by-step guide on how to detect domains that were generated using \"Domain Generation Algorithm\" (DGA). We will walk you through the process of transforming raw domain strings to Machine Learning features and creating a decision tree classifer which you will use to determine whether a given domain is legit or not. Once you have implemented the classifier, the worksheet will walk you through evaluating your model.  \n",
    "\n",
    "Overview 2 main steps:\n",
    "\n",
    "1. **Feature Engineering** - from raw domain strings to numeric Machine Learning features using DataFrame manipulations\n",
    "2. **Machine Learning Classification** - predict whether a domain is legit or not using a Decision Tree Classifier\n",
    "\n",
    "\n",
    "  \n",
    "\n",
    "**DGA - Background**\n",
    "\n",
    "\"Various families of malware use domain generation\n",
    "algorithms (DGAs) to generate a large number of pseudo-random\n",
    "domain names to connect to a command and control (C2) server.\n",
    "In order to block DGA C2 traffic, security organizations must\n",
    "first discover the algorithm by reverse engineering malware\n",
    "samples, then generate a list of domains for a given seed. The\n",
    "domains are then either preregistered, sink-holed or published\n",
    "in a DNS blacklist. This process is not only tedious, but can\n",
    "be readily circumvented by malware authors. An alternative\n",
    "approach to stop malware from using DGAs is to intercept DNS\n",
    "queries on a network and predict whether domains are DGA\n",
    "generated. Much of the previous work in DGA detection is based\n",
    "on finding groupings of like domains and using their statistical\n",
    "properties to determine if they are DGA generated. However,\n",
    "these techniques are run over large time windows and cannot be\n",
    "used for real-time detection and prevention. In addition, many of\n",
    "these techniques also use contextual information such as passive\n",
    "DNS and aggregations of all NXDomains throughout a network.\n",
    "Such requirements are not only costly to integrate, they may not\n",
    "be possible due to real-world constraints of many systems (such\n",
    "as endpoint detection). An alternative to these systems is a much\n",
    "harder problem: detect DGA generation on a per domain basis\n",
    "with no information except for the domain name. Previous work\n",
    "to solve this harder problem exhibits poor performance and many\n",
    "of these systems rely heavily on manual creation of features;\n",
    "a time consuming process that can easily be circumvented by\n",
    "malware authors...\"    \n",
    "[Citation: Woodbridge et. al 2016: \"Predicting Domain Generation Algorithms with Long Short-Term Memory Networks\"]\n",
    "\n",
    "A better alternative for real-world deployment would be to use \"featureless deep learning\" - We have a separate notebook where you can see how this can be implemented!\n",
    "\n",
    "**However, let's learn the basics first!!!**\n"
   ]
  },
  {
   "cell_type": "markdown",
   "metadata": {
    "deletable": true,
    "editable": true
   },
   "source": [
    "## Worksheet for Part 2 - Feature Engineering"
   ]
  },
  {
   "cell_type": "markdown",
   "metadata": {
    "deletable": true,
    "editable": true
   },
   "source": [
    "#### Breakpoint: Load Features and Labels\n",
    "\n",
    "If you got stuck in Part 1, please simply load the feature matrix we prepared for you, so you can move on to Part 2 and train a Decision Tree Classifier."
   ]
  },
  {
   "cell_type": "code",
   "execution_count": 44,
   "metadata": {
    "collapsed": false,
    "deletable": true,
    "editable": true
   },
   "outputs": [
    {
     "name": "stdout",
     "output_type": "stream",
     "text": [
      "1    1000\n",
      "0    1000\n",
      "Name: isDGA, dtype: int64\n"
     ]
    },
    {
     "data": {
      "text/html": [
       "<div>\n",
       "<table border=\"1\" class=\"dataframe\">\n",
       "  <thead>\n",
       "    <tr style=\"text-align: right;\">\n",
       "      <th></th>\n",
       "      <th>isDGA</th>\n",
       "      <th>length</th>\n",
       "      <th>digits</th>\n",
       "      <th>entropy</th>\n",
       "      <th>vowel-cons</th>\n",
       "      <th>ngrams</th>\n",
       "    </tr>\n",
       "  </thead>\n",
       "  <tbody>\n",
       "    <tr>\n",
       "      <th>0</th>\n",
       "      <td>1</td>\n",
       "      <td>13</td>\n",
       "      <td>0</td>\n",
       "      <td>3.546594</td>\n",
       "      <td>0.300000</td>\n",
       "      <td>968.076729</td>\n",
       "    </tr>\n",
       "    <tr>\n",
       "      <th>1</th>\n",
       "      <td>1</td>\n",
       "      <td>25</td>\n",
       "      <td>10</td>\n",
       "      <td>3.833270</td>\n",
       "      <td>0.250000</td>\n",
       "      <td>481.067222</td>\n",
       "    </tr>\n",
       "    <tr>\n",
       "      <th>2</th>\n",
       "      <td>1</td>\n",
       "      <td>12</td>\n",
       "      <td>0</td>\n",
       "      <td>2.855389</td>\n",
       "      <td>0.090909</td>\n",
       "      <td>1036.365657</td>\n",
       "    </tr>\n",
       "    <tr>\n",
       "      <th>3</th>\n",
       "      <td>1</td>\n",
       "      <td>26</td>\n",
       "      <td>6</td>\n",
       "      <td>3.844107</td>\n",
       "      <td>0.052632</td>\n",
       "      <td>708.328718</td>\n",
       "    </tr>\n",
       "    <tr>\n",
       "      <th>4</th>\n",
       "      <td>1</td>\n",
       "      <td>12</td>\n",
       "      <td>0</td>\n",
       "      <td>3.084963</td>\n",
       "      <td>0.090909</td>\n",
       "      <td>897.543434</td>\n",
       "    </tr>\n",
       "  </tbody>\n",
       "</table>\n",
       "</div>"
      ],
      "text/plain": [
       "   isDGA  length  digits   entropy  vowel-cons       ngrams\n",
       "0      1      13       0  3.546594    0.300000   968.076729\n",
       "1      1      25      10  3.833270    0.250000   481.067222\n",
       "2      1      12       0  2.855389    0.090909  1036.365657\n",
       "3      1      26       6  3.844107    0.052632   708.328718\n",
       "4      1      12       0  3.084963    0.090909   897.543434"
      ]
     },
     "execution_count": 44,
     "metadata": {},
     "output_type": "execute_result"
    }
   ],
   "source": [
    "df_final = pd.read_csv('../data/dga_features_final_df.csv')\n",
    "print(df_final.isDGA.value_counts())\n",
    "df_final.head()"
   ]
  },
  {
   "cell_type": "code",
   "execution_count": 45,
   "metadata": {
    "collapsed": false,
    "deletable": true,
    "editable": true
   },
   "outputs": [],
   "source": [
    "# Load dictionary of common english words from part 1\n",
    "from six.moves import cPickle as pickle\n",
    "with open('../data/d_common_en_words' + '.pickle', 'rb') as f:\n",
    "        d = pickle.load(f)"
   ]
  },
  {
   "cell_type": "markdown",
   "metadata": {
    "deletable": true,
    "editable": true
   },
   "source": [
    "## Part 2 - Machine Learning\n",
    "\n",
    "To learn simple classification procedures using [sklearn](http://scikit-learn.org/stable/) we have split the work flow into 5 steps."
   ]
  },
  {
   "cell_type": "markdown",
   "metadata": {
    "deletable": true,
    "editable": true
   },
   "source": [
    "### Step 1: Prepare Feature matrix and ```target``` vector containing the URL labels\n",
    "\n",
    "- In statistics, the feature matrix is often referred to as ```X```\n",
    "- target is a vector containing the labels for each URL (often also called *y* in statistics)\n",
    "- In sklearn both the input and target can either be a pandas DataFrame/Series or numpy array/vector respectively (can't be lists!)\n",
    "\n",
    "Tasks:\n",
    "- assign 'isDGA' column to a pandas Series named 'target'\n",
    "- drop 'isDGA' column from ```dga``` DataFrame and name the resulting pandas DataFrame 'feature_matrix'"
   ]
  },
  {
   "cell_type": "code",
   "execution_count": 46,
   "metadata": {
    "collapsed": false,
    "deletable": true,
    "editable": true
   },
   "outputs": [
    {
     "name": "stdout",
     "output_type": "stream",
     "text": [
      "Final features Index(['length', 'digits', 'entropy', 'vowel-cons', 'ngrams'], dtype='object')\n",
      "   length  digits   entropy  vowel-cons       ngrams\n",
      "0      13       0  3.546594    0.300000   968.076729\n",
      "1      25      10  3.833270    0.250000   481.067222\n",
      "2      12       0  2.855389    0.090909  1036.365657\n",
      "3      26       6  3.844107    0.052632   708.328718\n",
      "4      12       0  3.084963    0.090909   897.543434\n"
     ]
    }
   ],
   "source": [
    "target = df_final['isDGA']\n",
    "feature_matrix = df_final.drop(['isDGA'], axis=1)\n",
    "print('Final features', feature_matrix.columns)\n",
    "\n",
    "print( feature_matrix.head())"
   ]
  },
  {
   "cell_type": "markdown",
   "metadata": {
    "deletable": true,
    "editable": true
   },
   "source": [
    "### Step 2: Simple Cross-Validation\n",
    "\n",
    "Tasks:\n",
    "- split your feature matrix X and target vector into train and test subsets using sklearn [model_selection.train_test_split](http://scikit-learn.org/stable/modules/generated/sklearn.model_selection.train_test_split.html)"
   ]
  },
  {
   "cell_type": "code",
   "execution_count": 47,
   "metadata": {
    "collapsed": false,
    "deletable": true,
    "editable": true
   },
   "outputs": [],
   "source": [
    "# Simple Cross-Validation: Split the data set into training and test data\n",
    "feature_matrix_train, feature_matrix_test, target_train, target_test = model_selection.train_test_split(feature_matrix, target, test_size=0.25, random_state=33)"
   ]
  },
  {
   "cell_type": "code",
   "execution_count": 48,
   "metadata": {
    "collapsed": false
   },
   "outputs": [
    {
     "data": {
      "text/plain": [
       "length        1500\n",
       "digits        1500\n",
       "entropy       1500\n",
       "vowel-cons    1500\n",
       "ngrams        1500\n",
       "dtype: int64"
      ]
     },
     "execution_count": 48,
     "metadata": {},
     "output_type": "execute_result"
    }
   ],
   "source": [
    "feature_matrix_train.count()"
   ]
  },
  {
   "cell_type": "code",
   "execution_count": 49,
   "metadata": {
    "collapsed": false
   },
   "outputs": [
    {
     "data": {
      "text/plain": [
       "length        500\n",
       "digits        500\n",
       "entropy       500\n",
       "vowel-cons    500\n",
       "ngrams        500\n",
       "dtype: int64"
      ]
     },
     "execution_count": 49,
     "metadata": {},
     "output_type": "execute_result"
    }
   ],
   "source": [
    "feature_matrix_test.count()"
   ]
  },
  {
   "cell_type": "code",
   "execution_count": 50,
   "metadata": {
    "collapsed": false
   },
   "outputs": [
    {
     "data": {
      "text/plain": [
       "1179    0\n",
       "1529    0\n",
       "1125    0\n",
       "1739    0\n",
       "1303    0\n",
       "Name: isDGA, dtype: int64"
      ]
     },
     "execution_count": 50,
     "metadata": {},
     "output_type": "execute_result"
    }
   ],
   "source": [
    "target_train.head()"
   ]
  },
  {
   "cell_type": "markdown",
   "metadata": {
    "deletable": true,
    "editable": true
   },
   "source": [
    "### Step 3: Train the model and make a prediction\n",
    "\n",
    "Finally, we have prepared and segmented the data. Let's start classifying!!   \n",
    "\n",
    "Tasks:\n",
    "\n",
    "-  Use the sklearn [tree.DecisionTreeClassfier()](http://scikit-learn.org/stable/modules/generated/sklearn.tree.DecisionTreeClassifier.html), create a decision tree with standard parameters, and train it using the ```.fit()``` function with ```X_train``` and ```target_train``` data.\n",
    "-  Next, pull a few random rows from the data and see if your classifier got it correct.\n",
    "\n",
    "If you are interested in trying a real unknown domain, you'll have to create a function to generate the features for that domain before you run it through the classifier (see function ```is_dga``` a few cells below). "
   ]
  },
  {
   "cell_type": "code",
   "execution_count": 51,
   "metadata": {
    "collapsed": false,
    "deletable": true,
    "editable": true
   },
   "outputs": [
    {
     "name": "stdout",
     "output_type": "stream",
     "text": [
      "Predicted class: [0]\n",
      "Accurate prediction? 1500    True\n",
      "Name: isDGA, dtype: bool\n"
     ]
    }
   ],
   "source": [
    "# Train the decision tree based on the entropy criterion\n",
    "clf = tree.DecisionTreeClassifier()  # clf means classifier\n",
    "clf = clf.fit(feature_matrix_train, target_train)\n",
    "\n",
    "# Extract a row from the test data\n",
    "test_feature = feature_matrix_test[192:193]\n",
    "test_target = target_test[192:193]\n",
    "\n",
    "# Make the prediction\n",
    "pred = clf.predict(test_feature)\n",
    "print('Predicted class:', pred)\n",
    "print('Accurate prediction?', pred[0] == test_target)"
   ]
  },
  {
   "cell_type": "code",
   "execution_count": 52,
   "metadata": {
    "collapsed": false
   },
   "outputs": [
    {
     "data": {
      "text/html": [
       "<div>\n",
       "<table border=\"1\" class=\"dataframe\">\n",
       "  <thead>\n",
       "    <tr style=\"text-align: right;\">\n",
       "      <th></th>\n",
       "      <th>length</th>\n",
       "      <th>digits</th>\n",
       "      <th>entropy</th>\n",
       "      <th>vowel-cons</th>\n",
       "      <th>ngrams</th>\n",
       "    </tr>\n",
       "  </thead>\n",
       "  <tbody>\n",
       "    <tr>\n",
       "      <th>766</th>\n",
       "      <td>32</td>\n",
       "      <td>22</td>\n",
       "      <td>3.551109</td>\n",
       "      <td>1.000000</td>\n",
       "      <td>457.838732</td>\n",
       "    </tr>\n",
       "    <tr>\n",
       "      <th>182</th>\n",
       "      <td>25</td>\n",
       "      <td>7</td>\n",
       "      <td>4.163856</td>\n",
       "      <td>0.200000</td>\n",
       "      <td>656.989638</td>\n",
       "    </tr>\n",
       "    <tr>\n",
       "      <th>1763</th>\n",
       "      <td>12</td>\n",
       "      <td>0</td>\n",
       "      <td>3.251629</td>\n",
       "      <td>0.714286</td>\n",
       "      <td>1508.707071</td>\n",
       "    </tr>\n",
       "    <tr>\n",
       "      <th>1814</th>\n",
       "      <td>8</td>\n",
       "      <td>0</td>\n",
       "      <td>2.750000</td>\n",
       "      <td>0.600000</td>\n",
       "      <td>1281.912698</td>\n",
       "    </tr>\n",
       "    <tr>\n",
       "      <th>596</th>\n",
       "      <td>12</td>\n",
       "      <td>0</td>\n",
       "      <td>2.855389</td>\n",
       "      <td>0.200000</td>\n",
       "      <td>688.598485</td>\n",
       "    </tr>\n",
       "    <tr>\n",
       "      <th>1410</th>\n",
       "      <td>6</td>\n",
       "      <td>0</td>\n",
       "      <td>2.584963</td>\n",
       "      <td>0.500000</td>\n",
       "      <td>1606.894444</td>\n",
       "    </tr>\n",
       "    <tr>\n",
       "      <th>1994</th>\n",
       "      <td>13</td>\n",
       "      <td>0</td>\n",
       "      <td>2.661226</td>\n",
       "      <td>0.625000</td>\n",
       "      <td>1645.425214</td>\n",
       "    </tr>\n",
       "    <tr>\n",
       "      <th>510</th>\n",
       "      <td>25</td>\n",
       "      <td>7</td>\n",
       "      <td>4.163856</td>\n",
       "      <td>0.636364</td>\n",
       "      <td>778.120676</td>\n",
       "    </tr>\n",
       "    <tr>\n",
       "      <th>361</th>\n",
       "      <td>10</td>\n",
       "      <td>0</td>\n",
       "      <td>3.121928</td>\n",
       "      <td>0.428571</td>\n",
       "      <td>1139.212037</td>\n",
       "    </tr>\n",
       "    <tr>\n",
       "      <th>1563</th>\n",
       "      <td>13</td>\n",
       "      <td>0</td>\n",
       "      <td>3.238901</td>\n",
       "      <td>0.625000</td>\n",
       "      <td>1249.631313</td>\n",
       "    </tr>\n",
       "    <tr>\n",
       "      <th>1917</th>\n",
       "      <td>14</td>\n",
       "      <td>0</td>\n",
       "      <td>3.521641</td>\n",
       "      <td>0.555556</td>\n",
       "      <td>1425.548535</td>\n",
       "    </tr>\n",
       "    <tr>\n",
       "      <th>246</th>\n",
       "      <td>13</td>\n",
       "      <td>0</td>\n",
       "      <td>3.238901</td>\n",
       "      <td>0.083333</td>\n",
       "      <td>950.006410</td>\n",
       "    </tr>\n",
       "    <tr>\n",
       "      <th>371</th>\n",
       "      <td>32</td>\n",
       "      <td>22</td>\n",
       "      <td>3.593139</td>\n",
       "      <td>0.250000</td>\n",
       "      <td>289.297379</td>\n",
       "    </tr>\n",
       "    <tr>\n",
       "      <th>1954</th>\n",
       "      <td>3</td>\n",
       "      <td>1</td>\n",
       "      <td>1.584963</td>\n",
       "      <td>0.000000</td>\n",
       "      <td>766.888889</td>\n",
       "    </tr>\n",
       "    <tr>\n",
       "      <th>1314</th>\n",
       "      <td>9</td>\n",
       "      <td>0</td>\n",
       "      <td>2.725481</td>\n",
       "      <td>0.500000</td>\n",
       "      <td>1366.445767</td>\n",
       "    </tr>\n",
       "    <tr>\n",
       "      <th>1477</th>\n",
       "      <td>12</td>\n",
       "      <td>0</td>\n",
       "      <td>3.022055</td>\n",
       "      <td>0.714286</td>\n",
       "      <td>1236.629293</td>\n",
       "    </tr>\n",
       "    <tr>\n",
       "      <th>1620</th>\n",
       "      <td>8</td>\n",
       "      <td>0</td>\n",
       "      <td>3.000000</td>\n",
       "      <td>0.600000</td>\n",
       "      <td>1488.396825</td>\n",
       "    </tr>\n",
       "    <tr>\n",
       "      <th>1639</th>\n",
       "      <td>10</td>\n",
       "      <td>0</td>\n",
       "      <td>2.921928</td>\n",
       "      <td>0.428571</td>\n",
       "      <td>1765.397222</td>\n",
       "    </tr>\n",
       "    <tr>\n",
       "      <th>1574</th>\n",
       "      <td>9</td>\n",
       "      <td>0</td>\n",
       "      <td>2.419382</td>\n",
       "      <td>0.800000</td>\n",
       "      <td>1312.410053</td>\n",
       "    </tr>\n",
       "    <tr>\n",
       "      <th>884</th>\n",
       "      <td>9</td>\n",
       "      <td>0</td>\n",
       "      <td>2.947703</td>\n",
       "      <td>0.285714</td>\n",
       "      <td>1254.415344</td>\n",
       "    </tr>\n",
       "    <tr>\n",
       "      <th>1133</th>\n",
       "      <td>7</td>\n",
       "      <td>0</td>\n",
       "      <td>2.521641</td>\n",
       "      <td>0.400000</td>\n",
       "      <td>1385.012698</td>\n",
       "    </tr>\n",
       "    <tr>\n",
       "      <th>1986</th>\n",
       "      <td>5</td>\n",
       "      <td>0</td>\n",
       "      <td>1.370951</td>\n",
       "      <td>1.500000</td>\n",
       "      <td>1201.222222</td>\n",
       "    </tr>\n",
       "    <tr>\n",
       "      <th>1118</th>\n",
       "      <td>11</td>\n",
       "      <td>0</td>\n",
       "      <td>2.913977</td>\n",
       "      <td>0.571429</td>\n",
       "      <td>1388.780808</td>\n",
       "    </tr>\n",
       "    <tr>\n",
       "      <th>1492</th>\n",
       "      <td>8</td>\n",
       "      <td>0</td>\n",
       "      <td>3.000000</td>\n",
       "      <td>0.333333</td>\n",
       "      <td>1491.962302</td>\n",
       "    </tr>\n",
       "    <tr>\n",
       "      <th>317</th>\n",
       "      <td>14</td>\n",
       "      <td>0</td>\n",
       "      <td>3.521641</td>\n",
       "      <td>0.166667</td>\n",
       "      <td>648.047619</td>\n",
       "    </tr>\n",
       "    <tr>\n",
       "      <th>633</th>\n",
       "      <td>11</td>\n",
       "      <td>0</td>\n",
       "      <td>3.095795</td>\n",
       "      <td>0.571429</td>\n",
       "      <td>1286.953535</td>\n",
       "    </tr>\n",
       "    <tr>\n",
       "      <th>495</th>\n",
       "      <td>12</td>\n",
       "      <td>0</td>\n",
       "      <td>3.418296</td>\n",
       "      <td>0.333333</td>\n",
       "      <td>889.225253</td>\n",
       "    </tr>\n",
       "    <tr>\n",
       "      <th>772</th>\n",
       "      <td>10</td>\n",
       "      <td>0</td>\n",
       "      <td>2.446439</td>\n",
       "      <td>0.666667</td>\n",
       "      <td>1362.980556</td>\n",
       "    </tr>\n",
       "    <tr>\n",
       "      <th>1120</th>\n",
       "      <td>9</td>\n",
       "      <td>0</td>\n",
       "      <td>2.725481</td>\n",
       "      <td>0.333333</td>\n",
       "      <td>1331.191138</td>\n",
       "    </tr>\n",
       "    <tr>\n",
       "      <th>427</th>\n",
       "      <td>26</td>\n",
       "      <td>9</td>\n",
       "      <td>4.161978</td>\n",
       "      <td>0.133333</td>\n",
       "      <td>629.523932</td>\n",
       "    </tr>\n",
       "    <tr>\n",
       "      <th>...</th>\n",
       "      <td>...</td>\n",
       "      <td>...</td>\n",
       "      <td>...</td>\n",
       "      <td>...</td>\n",
       "      <td>...</td>\n",
       "    </tr>\n",
       "    <tr>\n",
       "      <th>567</th>\n",
       "      <td>15</td>\n",
       "      <td>0</td>\n",
       "      <td>3.373557</td>\n",
       "      <td>0.500000</td>\n",
       "      <td>1274.368376</td>\n",
       "    </tr>\n",
       "    <tr>\n",
       "      <th>62</th>\n",
       "      <td>19</td>\n",
       "      <td>0</td>\n",
       "      <td>3.471354</td>\n",
       "      <td>0.461538</td>\n",
       "      <td>1060.748997</td>\n",
       "    </tr>\n",
       "    <tr>\n",
       "      <th>1760</th>\n",
       "      <td>10</td>\n",
       "      <td>0</td>\n",
       "      <td>2.921928</td>\n",
       "      <td>1.000000</td>\n",
       "      <td>1829.612037</td>\n",
       "    </tr>\n",
       "    <tr>\n",
       "      <th>1057</th>\n",
       "      <td>6</td>\n",
       "      <td>0</td>\n",
       "      <td>2.584963</td>\n",
       "      <td>0.500000</td>\n",
       "      <td>1220.394444</td>\n",
       "    </tr>\n",
       "    <tr>\n",
       "      <th>665</th>\n",
       "      <td>27</td>\n",
       "      <td>0</td>\n",
       "      <td>3.902312</td>\n",
       "      <td>0.285714</td>\n",
       "      <td>964.977721</td>\n",
       "    </tr>\n",
       "    <tr>\n",
       "      <th>1172</th>\n",
       "      <td>1</td>\n",
       "      <td>0</td>\n",
       "      <td>-0.000000</td>\n",
       "      <td>0.000000</td>\n",
       "      <td>61.333333</td>\n",
       "    </tr>\n",
       "    <tr>\n",
       "      <th>1582</th>\n",
       "      <td>7</td>\n",
       "      <td>0</td>\n",
       "      <td>1.664498</td>\n",
       "      <td>1.333333</td>\n",
       "      <td>1109.173016</td>\n",
       "    </tr>\n",
       "    <tr>\n",
       "      <th>407</th>\n",
       "      <td>24</td>\n",
       "      <td>10</td>\n",
       "      <td>3.855389</td>\n",
       "      <td>0.272727</td>\n",
       "      <td>297.446860</td>\n",
       "    </tr>\n",
       "    <tr>\n",
       "      <th>22</th>\n",
       "      <td>28</td>\n",
       "      <td>0</td>\n",
       "      <td>4.066109</td>\n",
       "      <td>0.555556</td>\n",
       "      <td>1086.298535</td>\n",
       "    </tr>\n",
       "    <tr>\n",
       "      <th>1329</th>\n",
       "      <td>10</td>\n",
       "      <td>0</td>\n",
       "      <td>3.121928</td>\n",
       "      <td>0.666667</td>\n",
       "      <td>1285.687963</td>\n",
       "    </tr>\n",
       "    <tr>\n",
       "      <th>1017</th>\n",
       "      <td>4</td>\n",
       "      <td>0</td>\n",
       "      <td>1.500000</td>\n",
       "      <td>1.000000</td>\n",
       "      <td>1514.416667</td>\n",
       "    </tr>\n",
       "    <tr>\n",
       "      <th>1402</th>\n",
       "      <td>4</td>\n",
       "      <td>0</td>\n",
       "      <td>2.000000</td>\n",
       "      <td>0.333333</td>\n",
       "      <td>922.527778</td>\n",
       "    </tr>\n",
       "    <tr>\n",
       "      <th>1100</th>\n",
       "      <td>11</td>\n",
       "      <td>0</td>\n",
       "      <td>3.277613</td>\n",
       "      <td>0.571429</td>\n",
       "      <td>1529.181818</td>\n",
       "    </tr>\n",
       "    <tr>\n",
       "      <th>356</th>\n",
       "      <td>12</td>\n",
       "      <td>0</td>\n",
       "      <td>3.022055</td>\n",
       "      <td>0.200000</td>\n",
       "      <td>1118.463131</td>\n",
       "    </tr>\n",
       "    <tr>\n",
       "      <th>1350</th>\n",
       "      <td>9</td>\n",
       "      <td>0</td>\n",
       "      <td>2.947703</td>\n",
       "      <td>0.285714</td>\n",
       "      <td>1203.539021</td>\n",
       "    </tr>\n",
       "    <tr>\n",
       "      <th>664</th>\n",
       "      <td>26</td>\n",
       "      <td>8</td>\n",
       "      <td>4.132944</td>\n",
       "      <td>0.285714</td>\n",
       "      <td>623.070897</td>\n",
       "    </tr>\n",
       "    <tr>\n",
       "      <th>618</th>\n",
       "      <td>32</td>\n",
       "      <td>19</td>\n",
       "      <td>3.632049</td>\n",
       "      <td>0.625000</td>\n",
       "      <td>481.695632</td>\n",
       "    </tr>\n",
       "    <tr>\n",
       "      <th>792</th>\n",
       "      <td>27</td>\n",
       "      <td>10</td>\n",
       "      <td>4.088221</td>\n",
       "      <td>0.133333</td>\n",
       "      <td>520.707217</td>\n",
       "    </tr>\n",
       "    <tr>\n",
       "      <th>1340</th>\n",
       "      <td>7</td>\n",
       "      <td>0</td>\n",
       "      <td>2.521641</td>\n",
       "      <td>1.333333</td>\n",
       "      <td>1553.320635</td>\n",
       "    </tr>\n",
       "    <tr>\n",
       "      <th>1580</th>\n",
       "      <td>2</td>\n",
       "      <td>0</td>\n",
       "      <td>1.000000</td>\n",
       "      <td>1.000000</td>\n",
       "      <td>348.833333</td>\n",
       "    </tr>\n",
       "    <tr>\n",
       "      <th>1782</th>\n",
       "      <td>10</td>\n",
       "      <td>0</td>\n",
       "      <td>2.921928</td>\n",
       "      <td>0.666667</td>\n",
       "      <td>1497.694444</td>\n",
       "    </tr>\n",
       "    <tr>\n",
       "      <th>191</th>\n",
       "      <td>12</td>\n",
       "      <td>0</td>\n",
       "      <td>3.584963</td>\n",
       "      <td>0.333333</td>\n",
       "      <td>957.512626</td>\n",
       "    </tr>\n",
       "    <tr>\n",
       "      <th>1944</th>\n",
       "      <td>13</td>\n",
       "      <td>2</td>\n",
       "      <td>3.700440</td>\n",
       "      <td>0.571429</td>\n",
       "      <td>1265.642968</td>\n",
       "    </tr>\n",
       "    <tr>\n",
       "      <th>692</th>\n",
       "      <td>27</td>\n",
       "      <td>14</td>\n",
       "      <td>3.736007</td>\n",
       "      <td>0.444444</td>\n",
       "      <td>466.365622</td>\n",
       "    </tr>\n",
       "    <tr>\n",
       "      <th>1096</th>\n",
       "      <td>11</td>\n",
       "      <td>0</td>\n",
       "      <td>2.913977</td>\n",
       "      <td>0.833333</td>\n",
       "      <td>1648.983165</td>\n",
       "    </tr>\n",
       "    <tr>\n",
       "      <th>151</th>\n",
       "      <td>21</td>\n",
       "      <td>0</td>\n",
       "      <td>3.272804</td>\n",
       "      <td>0.500000</td>\n",
       "      <td>1371.717168</td>\n",
       "    </tr>\n",
       "    <tr>\n",
       "      <th>799</th>\n",
       "      <td>24</td>\n",
       "      <td>4</td>\n",
       "      <td>3.855389</td>\n",
       "      <td>0.250000</td>\n",
       "      <td>688.413977</td>\n",
       "    </tr>\n",
       "    <tr>\n",
       "      <th>249</th>\n",
       "      <td>10</td>\n",
       "      <td>0</td>\n",
       "      <td>2.446439</td>\n",
       "      <td>0.666667</td>\n",
       "      <td>1792.381481</td>\n",
       "    </tr>\n",
       "    <tr>\n",
       "      <th>260</th>\n",
       "      <td>13</td>\n",
       "      <td>0</td>\n",
       "      <td>3.392747</td>\n",
       "      <td>0.181818</td>\n",
       "      <td>759.509324</td>\n",
       "    </tr>\n",
       "    <tr>\n",
       "      <th>1669</th>\n",
       "      <td>14</td>\n",
       "      <td>0</td>\n",
       "      <td>3.182006</td>\n",
       "      <td>0.555556</td>\n",
       "      <td>1606.367521</td>\n",
       "    </tr>\n",
       "  </tbody>\n",
       "</table>\n",
       "<p>500 rows × 5 columns</p>\n",
       "</div>"
      ],
      "text/plain": [
       "      length  digits   entropy  vowel-cons       ngrams\n",
       "766       32      22  3.551109    1.000000   457.838732\n",
       "182       25       7  4.163856    0.200000   656.989638\n",
       "1763      12       0  3.251629    0.714286  1508.707071\n",
       "1814       8       0  2.750000    0.600000  1281.912698\n",
       "596       12       0  2.855389    0.200000   688.598485\n",
       "1410       6       0  2.584963    0.500000  1606.894444\n",
       "1994      13       0  2.661226    0.625000  1645.425214\n",
       "510       25       7  4.163856    0.636364   778.120676\n",
       "361       10       0  3.121928    0.428571  1139.212037\n",
       "1563      13       0  3.238901    0.625000  1249.631313\n",
       "1917      14       0  3.521641    0.555556  1425.548535\n",
       "246       13       0  3.238901    0.083333   950.006410\n",
       "371       32      22  3.593139    0.250000   289.297379\n",
       "1954       3       1  1.584963    0.000000   766.888889\n",
       "1314       9       0  2.725481    0.500000  1366.445767\n",
       "1477      12       0  3.022055    0.714286  1236.629293\n",
       "1620       8       0  3.000000    0.600000  1488.396825\n",
       "1639      10       0  2.921928    0.428571  1765.397222\n",
       "1574       9       0  2.419382    0.800000  1312.410053\n",
       "884        9       0  2.947703    0.285714  1254.415344\n",
       "1133       7       0  2.521641    0.400000  1385.012698\n",
       "1986       5       0  1.370951    1.500000  1201.222222\n",
       "1118      11       0  2.913977    0.571429  1388.780808\n",
       "1492       8       0  3.000000    0.333333  1491.962302\n",
       "317       14       0  3.521641    0.166667   648.047619\n",
       "633       11       0  3.095795    0.571429  1286.953535\n",
       "495       12       0  3.418296    0.333333   889.225253\n",
       "772       10       0  2.446439    0.666667  1362.980556\n",
       "1120       9       0  2.725481    0.333333  1331.191138\n",
       "427       26       9  4.161978    0.133333   629.523932\n",
       "...      ...     ...       ...         ...          ...\n",
       "567       15       0  3.373557    0.500000  1274.368376\n",
       "62        19       0  3.471354    0.461538  1060.748997\n",
       "1760      10       0  2.921928    1.000000  1829.612037\n",
       "1057       6       0  2.584963    0.500000  1220.394444\n",
       "665       27       0  3.902312    0.285714   964.977721\n",
       "1172       1       0 -0.000000    0.000000    61.333333\n",
       "1582       7       0  1.664498    1.333333  1109.173016\n",
       "407       24      10  3.855389    0.272727   297.446860\n",
       "22        28       0  4.066109    0.555556  1086.298535\n",
       "1329      10       0  3.121928    0.666667  1285.687963\n",
       "1017       4       0  1.500000    1.000000  1514.416667\n",
       "1402       4       0  2.000000    0.333333   922.527778\n",
       "1100      11       0  3.277613    0.571429  1529.181818\n",
       "356       12       0  3.022055    0.200000  1118.463131\n",
       "1350       9       0  2.947703    0.285714  1203.539021\n",
       "664       26       8  4.132944    0.285714   623.070897\n",
       "618       32      19  3.632049    0.625000   481.695632\n",
       "792       27      10  4.088221    0.133333   520.707217\n",
       "1340       7       0  2.521641    1.333333  1553.320635\n",
       "1580       2       0  1.000000    1.000000   348.833333\n",
       "1782      10       0  2.921928    0.666667  1497.694444\n",
       "191       12       0  3.584963    0.333333   957.512626\n",
       "1944      13       2  3.700440    0.571429  1265.642968\n",
       "692       27      14  3.736007    0.444444   466.365622\n",
       "1096      11       0  2.913977    0.833333  1648.983165\n",
       "151       21       0  3.272804    0.500000  1371.717168\n",
       "799       24       4  3.855389    0.250000   688.413977\n",
       "249       10       0  2.446439    0.666667  1792.381481\n",
       "260       13       0  3.392747    0.181818   759.509324\n",
       "1669      14       0  3.182006    0.555556  1606.367521\n",
       "\n",
       "[500 rows x 5 columns]"
      ]
     },
     "execution_count": 52,
     "metadata": {},
     "output_type": "execute_result"
    }
   ],
   "source": [
    "feature_matrix_test"
   ]
  },
  {
   "cell_type": "code",
   "execution_count": 53,
   "metadata": {
    "collapsed": true,
    "deletable": true,
    "editable": true
   },
   "outputs": [],
   "source": [
    "# For simplicity let's just copy the needed function in here again\n",
    "\n",
    "def H_entropy (x):\n",
    "    # Calculate Shannon Entropy\n",
    "    prob = [ float(x.count(c)) / len(x) for c in dict.fromkeys(list(x)) ] \n",
    "    H = - sum([ p * np.log2(p) for p in prob ]) \n",
    "    return H\n",
    "\n",
    "def vowel_consonant_ratio (x):\n",
    "    # Calculate vowel to consonant ratio\n",
    "    x = x.lower()\n",
    "    vowels_pattern = re.compile('([aeiou])')\n",
    "    consonants_pattern = re.compile('([b-df-hj-np-tv-z])')\n",
    "    vowels = re.findall(vowels_pattern, x)\n",
    "    consonants = re.findall(consonants_pattern, x)\n",
    "    try:\n",
    "        ratio = len(vowels) / len(consonants)\n",
    "    except: # catch zero devision exception \n",
    "        ratio = 0  \n",
    "    return ratio\n",
    "\n",
    "# ngrams: Implementation according to Schiavoni 2014: \"Phoenix: DGA-based Botnet Tracking and Intelligence\"\n",
    "# http://s2lab.isg.rhul.ac.uk/papers/files/dimva2014.pdf\n",
    "\n",
    "def ngrams(word, n):\n",
    "    # Extract all ngrams and return a regular Python list\n",
    "    # Input word: can be a simple string or a list of strings\n",
    "    # Input n: Can be one integer or a list of integers \n",
    "    # if you want to extract multipe ngrams and have them all in one list\n",
    "    \n",
    "    l_ngrams = []\n",
    "    if isinstance(word, list):\n",
    "        for w in word:\n",
    "            if isinstance(n, list):\n",
    "                for curr_n in n:\n",
    "                    ngrams = [w[i:i+curr_n] for i in range(0,len(w)-curr_n+1)]\n",
    "                    l_ngrams.extend(ngrams)\n",
    "            else:\n",
    "                ngrams = [w[i:i+n] for i in range(0,len(w)-n+1)]\n",
    "                l_ngrams.extend(ngrams)\n",
    "    else:\n",
    "        if isinstance(n, list):\n",
    "            for curr_n in n:\n",
    "                ngrams = [word[i:i+curr_n] for i in range(0,len(word)-curr_n+1)]\n",
    "                l_ngrams.extend(ngrams)\n",
    "        else:\n",
    "            ngrams = [word[i:i+n] for i in range(0,len(word)-n+1)]\n",
    "            l_ngrams.extend(ngrams)\n",
    "#     print(l_ngrams)\n",
    "    return l_ngrams\n",
    "\n",
    "def ngram_feature(domain, d, n):\n",
    "    # Input is your domain string or list of domain strings\n",
    "    # a dictionary object d that contains the count for most common english words\n",
    "    # finally you n either as int list or simple int defining the ngram length\n",
    "    \n",
    "    # Core magic: Looks up domain ngrams in english dictionary ngrams and sums up the \n",
    "    # respective english dictionary counts for the respective domain ngram\n",
    "    # sum is normalized\n",
    "    \n",
    "    l_ngrams = ngrams(domain, n)\n",
    "#     print(l_ngrams)\n",
    "    count_sum=0\n",
    "    for ngram in l_ngrams:\n",
    "        if d[ngram]:\n",
    "            count_sum+=d[ngram]\n",
    "    try:\n",
    "        feature = count_sum/(len(domain)-n+1)\n",
    "    except:\n",
    "        feature = 0\n",
    "    return feature\n",
    "    \n",
    "def average_ngram_feature(l_ngram_feature):\n",
    "    # input is a list of calls to ngram_feature(domain, d, n)\n",
    "    # usually you would use various n values, like 1,2,3...\n",
    "    return sum(l_ngram_feature)/len(l_ngram_feature)"
   ]
  },
  {
   "cell_type": "code",
   "execution_count": 54,
   "metadata": {
    "collapsed": false,
    "deletable": true,
    "editable": true
   },
   "outputs": [
    {
     "name": "stdout",
     "output_type": "stream",
     "text": [
      "Predictions of domain spardeingeld is [0 means legit and 1 dga]:  0\n",
      "Predictions of domain google is [0 means legit and 1 dga]:  0\n",
      "Predictions of domain 1vxznov16031kjxneqjk1rtofi6 is [0 means legit and 1 dga]:  1\n",
      "Predictions of domain lthmqglxwmrwex is [0 means legit and 1 dga]:  1\n"
     ]
    }
   ],
   "source": [
    "def is_dga(domain, clf, d):\n",
    "    # Function that takes new domain string, trained model 'clf' as input and\n",
    "    # dictionary d of most common english words\n",
    "    # returns prediction\n",
    "    \n",
    "    domain_features = np.empty([1,5])\n",
    "    # order of features is ['length', 'digits', 'entropy', 'vowel-cons', 'ngrams']\n",
    "    domain_features[0,0] = len(domain)\n",
    "    pattern = re.compile('([0-9])')\n",
    "    domain_features[0,1] = len(re.findall(pattern, domain))\n",
    "    domain_features[0,2] = H_entropy(domain)\n",
    "    domain_features[0,3] = vowel_consonant_ratio(domain)\n",
    "    domain_features[0,4] = average_ngram_feature([ngram_feature(domain, d, 1), \n",
    "                                                  ngram_feature(domain, d, 2), \n",
    "                                                  ngram_feature(domain, d, 3)])\n",
    "    pred = clf.predict(domain_features)\n",
    "    return pred[0]\n",
    "\n",
    "\n",
    "print('Predictions of domain %s is [0 means legit and 1 dga]: ' %('spardeingeld'), is_dga('spardeingeld', clf, d))  \n",
    "print('Predictions of domain %s is [0 means legit and 1 dga]: ' %('google'), is_dga('google', clf, d)) \n",
    "print('Predictions of domain %s is [0 means legit and 1 dga]: ' %('1vxznov16031kjxneqjk1rtofi6'), is_dga('1vxznov16031kjxneqjk1rtofi6', clf, d)) \n",
    "print('Predictions of domain %s is [0 means legit and 1 dga]: ' %('lthmqglxwmrwex'), is_dga('lthmqglxwmrwex', clf, d)) \n"
   ]
  },
  {
   "cell_type": "markdown",
   "metadata": {
    "deletable": true,
    "editable": true
   },
   "source": [
    "### Step 4: Assess model accuracy with simple cross-validation\n",
    "\n",
    "Tasks:\n",
    "- Make predictions for all your data. Call the ```.predict()``` method on the clf with your training data ```X_train``` and store the results in a variable called ```target_pred```.\n",
    "- Use sklearn [metrics.accuracy_score](http://scikit-learn.org/stable/modules/generated/sklearn.metrics.accuracy_score.html) to determine your models accuracy. Detailed Instruction:\n",
    "    - Use your trained model to predict the labels of your test data ```X_test```. Run ```.predict()``` method on the clf with your test data ```X_test``` and store the results in a variable called ```target_pred```.. \n",
    "    - Then calculate the accuracy using ```target_test``` (which are the true labels/groundtruth) AND your models predictions on the test portion ```target_pred``` as inputs. The advantage here is to see how your model performs on new data it has not been seen during the training phase. The fair approach here is a simple **cross-validation**!\n",
    "    \n",
    "- Finally print out the confusion matrix using [metrics.confusion_matrix](http://scikit-learn.org/stable/modules/generated/sklearn.metrics.confusion_matrix.html)"
   ]
  },
  {
   "cell_type": "code",
   "execution_count": 55,
   "metadata": {
    "collapsed": false,
    "deletable": true,
    "editable": true
   },
   "outputs": [
    {
     "name": "stdout",
     "output_type": "stream",
     "text": [
      "0.864\n",
      "Confusion Matrix\n",
      " [[220  36]\n",
      " [ 32 212]]\n"
     ]
    }
   ],
   "source": [
    "# fair approach: make prediction on test data portion\n",
    "target_pred = clf.predict(feature_matrix_test)\n",
    "print(metrics.accuracy_score(target_test, target_pred))\n",
    "print('Confusion Matrix\\n', metrics.confusion_matrix(target_test, target_pred))"
   ]
  },
  {
   "cell_type": "code",
   "execution_count": 56,
   "metadata": {
    "collapsed": false,
    "deletable": true,
    "editable": true
   },
   "outputs": [
    {
     "name": "stdout",
     "output_type": "stream",
     "text": [
      "             precision    recall  f1-score   support\n",
      "\n",
      "      legit       0.87      0.86      0.87       256\n",
      "        dga       0.85      0.87      0.86       244\n",
      "\n",
      "avg / total       0.86      0.86      0.86       500\n",
      "\n"
     ]
    }
   ],
   "source": [
    "# Classification Report...neat summary\n",
    "print(metrics.classification_report(target_test, target_pred, target_names=['legit', 'dga']))"
   ]
  },
  {
   "cell_type": "code",
   "execution_count": 58,
   "metadata": {
    "collapsed": false,
    "deletable": true,
    "editable": true
   },
   "outputs": [
    {
     "data": {
      "text/plain": [
       "0.86399999999999999"
      ]
     },
     "execution_count": 58,
     "metadata": {},
     "output_type": "execute_result"
    }
   ],
   "source": [
    "# short-cut\n",
    "clf.score(feature_matrix_test, target_test)"
   ]
  },
  {
   "cell_type": "markdown",
   "metadata": {
    "deletable": true,
    "editable": true
   },
   "source": [
    "### Step 5: Assess model accuracy with k-fold cross-validation\n",
    "\n",
    "Tasks:\n",
    "- Partition the dataset into *k* different subsets\n",
    "- Create *k* different models by training on *k-1* subsets and testing on the remaining subsets\n",
    "- Measure the performance on each of the models and take the average measure.\n",
    "\n",
    "*Short-Cut*\n",
    "All of these steps can be easily achieved by simply using sklearn's [model_selection.KFold()](http://scikit-learn.org/stable/modules/generated/sklearn.model_selection.KFold.html) and [model_selection.cross_val_score()](http://scikit-learn.org/stable/modules/generated/sklearn.model_selection.cross_val_score.html) functions."
   ]
  },
  {
   "cell_type": "code",
   "execution_count": 59,
   "metadata": {
    "collapsed": false,
    "deletable": true,
    "editable": true
   },
   "outputs": [
    {
     "data": {
      "text/plain": [
       "3"
      ]
     },
     "execution_count": 59,
     "metadata": {},
     "output_type": "execute_result"
    }
   ],
   "source": [
    "cvKFold = model_selection.KFold(n_splits=3, shuffle=True, random_state=33) \n",
    "cvKFold.get_n_splits(feature_matrix)"
   ]
  },
  {
   "cell_type": "code",
   "execution_count": 60,
   "metadata": {
    "collapsed": false,
    "deletable": true,
    "editable": true
   },
   "outputs": [
    {
     "name": "stdout",
     "output_type": "stream",
     "text": [
      "[ 0.86656672  0.85457271  0.86786787]\n"
     ]
    }
   ],
   "source": [
    "scores = model_selection.cross_val_score(clf, feature_matrix, target, cv=cvKFold)\n",
    "print(scores)"
   ]
  },
  {
   "cell_type": "code",
   "execution_count": 61,
   "metadata": {
    "collapsed": false,
    "deletable": true,
    "editable": true
   },
   "outputs": [
    {
     "name": "stdout",
     "output_type": "stream",
     "text": [
      "Mean score: 0.863 (+/- 0.004)\n"
     ]
    }
   ],
   "source": [
    "# Get avergage score +- Standard Error (https://docs.scipy.org/doc/scipy/reference/generated/scipy.stats.sem.html)\n",
    "from scipy.stats import sem\n",
    "def mean_score( scores ):\n",
    "    return \"Mean score: {0:.3f} (+/- {1:.3f})\".format( np.mean(scores), sem( scores ))\n",
    "print( mean_score( scores))"
   ]
  },
  {
   "cell_type": "markdown",
   "metadata": {
    "deletable": true,
    "editable": true
   },
   "source": [
    "#### (Optional) Visualizing your Tree\n",
    "As an optional step, you can actually visualize your tree.  The following code will generate a graph of your decision tree.  You will need graphviz (http://www.graphviz.org) and pydotplus (or pydot) installed for this to work.\n",
    "The Griffon VM has this installed already, but if you try this on a Mac, or Linux machine you will need to install graphviz."
   ]
  },
  {
   "cell_type": "code",
   "execution_count": null,
   "metadata": {
    "collapsed": false,
    "deletable": true,
    "editable": true
   },
   "outputs": [],
   "source": [
    "# These libraries are used to visualize the decision tree and require that you have GraphViz\n",
    "# and pydot or pydotplus installed on your computer.\n",
    "\n",
    "from sklearn.externals.six import StringIO  \n",
    "from IPython.core.display import Image\n",
    "import pydotplus as pydot\n",
    "\n",
    "\n",
    "dot_data = StringIO() \n",
    "tree.export_graphviz(clf, out_file=dot_data, feature_names=['length', 'digits', 'entropy', 'vowel-cons', 'ngrams']) \n",
    "graph = pydot.graph_from_dot_data(dot_data.getvalue()) \n",
    "Image(graph.create_png())\n"
   ]
  },
  {
   "cell_type": "code",
   "execution_count": 63,
   "metadata": {
    "collapsed": true
   },
   "outputs": [],
   "source": [
    "from sklearn import svm\n",
    "from sklearn.ensemble import RandomForestClassifier"
   ]
  },
  {
   "cell_type": "code",
   "execution_count": 65,
   "metadata": {
    "collapsed": true,
    "deletable": true,
    "editable": true
   },
   "outputs": [],
   "source": [
    "#Create the Random Forest Classifier\n",
    "random_forest_clf = RandomForestClassifier(n_estimators=10, \n",
    "                             max_depth=None, \n",
    "                             min_samples_split=2, \n",
    "                             random_state=0)\n",
    "\n",
    "random_forest_clf = random_forest_clf.fit(feature_matrix_train, target_train)"
   ]
  },
  {
   "cell_type": "code",
   "execution_count": 64,
   "metadata": {
    "collapsed": false,
    "deletable": true,
    "editable": true
   },
   "outputs": [],
   "source": [
    "#Next, create the SVM classifier\n",
    "svm_classifier = svm.SVC()\n",
    "svm_classifier = svm_classifier.fit(feature_matrix_train, target_train)  "
   ]
  },
  {
   "cell_type": "code",
   "execution_count": null,
   "metadata": {
    "collapsed": true
   },
   "outputs": [],
   "source": []
  }
 ],
 "metadata": {
  "kernelspec": {
   "display_name": "Python [default]",
   "language": "python",
   "name": "python3"
  },
  "language_info": {
   "codemirror_mode": {
    "name": "ipython",
    "version": 3
   },
   "file_extension": ".py",
   "mimetype": "text/x-python",
   "name": "python",
   "nbconvert_exporter": "python",
   "pygments_lexer": "ipython3",
   "version": "3.5.3"
  }
 },
 "nbformat": 4,
 "nbformat_minor": 2
}
